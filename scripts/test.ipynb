{
 "cells": [
  {
   "cell_type": "code",
   "execution_count": null,
   "metadata": {},
   "outputs": [],
   "source": [
    "import os\n",
    "import subprocess\n",
    "\n",
    "os.system('ffmpeg -i 60fps/UHD/')"
   ]
  },
  {
   "cell_type": "code",
   "execution_count": 4,
   "metadata": {},
   "outputs": [
    {
     "name": "stdout",
     "output_type": "stream",
     "text": [
      "   id  raw_bitrate  compressed_bitrate  num_byte_files  time_transcode\n",
      "0   1            1                   1               1               1\n",
      "1   1            1                   1               1               1\n"
     ]
    }
   ],
   "source": [
    "import pandas as pd\n",
    "\n",
    "a = pd.DataFrame([[1, 1, 1, 1, 1, ], [1, 1, 1, 1, 1, ]], columns=[\n",
    "    'id', 'raw_bitrate', 'compressed_bitrate', 'num_byte_files', 'time_transcode'\n",
    "])\n",
    "print(a)"
   ]
  },
  {
   "cell_type": "code",
   "execution_count": 5,
   "metadata": {},
   "outputs": [
    {
     "name": "stdout",
     "output_type": "stream",
     "text": [
      "asdsadfasdfasdfasdfasdfasdfasdfasdfasdfasdf\n"
     ]
    }
   ],
   "source": [
    "a = 'asdsadfasdfasdfasdfasdf'\\\n",
    "    'asdfasdfasdfasdfasdf'\n",
    "print(a)"
   ]
  }
 ],
 "metadata": {
  "kernelspec": {
   "display_name": "Python 3",
   "language": "python",
   "name": "python3"
  },
  "language_info": {
   "codemirror_mode": {
    "name": "ipython",
    "version": 3
   },
   "file_extension": ".py",
   "mimetype": "text/x-python",
   "name": "python",
   "nbconvert_exporter": "python",
   "pygments_lexer": "ipython3",
   "version": "3.10.12"
  }
 },
 "nbformat": 4,
 "nbformat_minor": 2
}
